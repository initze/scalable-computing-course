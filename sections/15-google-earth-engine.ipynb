{
 "cells": [
  {
   "cell_type": "raw",
   "id": "145b8208",
   "metadata": {},
   "source": [
    "---\n",
    "title: \"Google Earth Engine\"\n",
    "---"
   ]
  },
  {
   "cell_type": "markdown",
   "id": "ddcfbfc9",
   "metadata": {},
   "source": [
    "SAM NOTES, DELETE LATER\n",
    " - need to make sure that .ipynb that student's will work out of are running in same virutal enviroment as everything else\n",
    " - embed .ipynb into quarto notebook (get book to build from those examples)\n",
    " - use Ryan Abernathey's [post](https://medium.com/pangeo/closed-platforms-vs-open-architectures-for-cloud-native-earth-system-analytics-1ad88708ebb6) to help frame introduction\n",
    "\n",
    "## Learning Objectives\n",
    "\n",
    "- Understand what Google Earth Engine provides and its applications\n",
    "- Learn about some real-world applications of Google Earth Engine\n",
    "- Learn how to get started using Google Earth Engine on your own computer\n",
    "- Learn how to find and access Google Earth Engine Data\n",
    "\n",
    "## Introduction (15-20min)\n",
    "\n",
    "SAM NOTES, DELETE LATER \n",
    "- have Ingmar help frame utility of GEE in intro\n",
    "\n",
    "[Google Earth Engine](https://earthengine.google.com/) is a geospatial processing platform powered by Google Cloud Platform. It contains over 30 years of satellite imagery and geospatial datasets that are continually updated and available instantly. The Earth Engine API is available in Python (and JavaScript) for anyone with an account to access and analyze data.\n",
    "\n",
    "ADD SOME COOL IMAGERY HERE\n",
    "\n",
    "Explore the public [Earth Engine Data Catalog](https://developers.google.com/earth-engine/datasets/catalog) which includes a variety of standard Earth science raster datasets. Browse by [dataset tags](https://developers.google.com/earth-engine/datasets/tags) or by satellites ([Landsat](https://developers.google.com/earth-engine/datasets/catalog/landsat), [MODIS](https://developers.google.com/earth-engine/datasets/catalog/modis), [Sentinel](https://developers.google.com/earth-engine/datasets/catalog/sentinel)).\n",
    "\n",
    "SAM NOTES, DELETE LATER\n",
    "- typical: download data and work locally\n",
    "- new way:\"Moving compute to data\" -- GEE is a great example of this\n",
    "\n",
    "## Getting started with Google Earth Engine (GEE) on your own machine (40 min)\n",
    "\n",
    "SAM NOTES, DELETE LATER\n",
    "\n",
    "- remove `#| eval: false` once code actually runs to embed outputs\n",
    "- don't really have time to actually do this in class? include instructions for those who want to try it out on their own later?\n",
    "- Content borrowed from Dr. Samantha Stevenson's [guide to installling Jupyter/Google Earth Engine onyour personal laptop](https://docs.google.com/document/d/1P1c6Ef7D1OoGaTaOrPDO0m5LBN1okpGlU0OXKKzsoi0/edit).\n",
    "- PREREQUISITE: need conda (see Earth Engine API installion instructions [here](https://developers.google.com/earth-engine/guides/python_install-conda)) -- haven't added these instructions below yet\n",
    "- also, not working on my machine at the moment. issue with library installs? starts with `earthengine authenticate`\n",
    "\n",
    "\n",
    "1. Install the Google Earth Engine API\n",
    "\n",
    "SAM NOTES, DELETE LATER \n",
    "- MOVE MOST OF THIS TO COURSE SETUP (not using conda) BUT KEEP GEE ACTIVATION STEP HERE\n",
    "\n",
    "- Create an environment where the Google Earth Engine API will live. This ensures that it and it's dependent packages will not cause versioning issues with your base environment (or other environments). We'll call our environment `gee_env`.\n",
    "\n",
    "\n",
    "```{bash}\n",
    "#| eval: false\n",
    "conda create --name gee_env\n",
    "```\n",
    "\n",
    "\n",
    "- Activate your environment so your machine knows where to store subsequent installs.\n",
    "\n",
    "\n",
    "```{bash}\n",
    "#| eval: false\n",
    "conda activate gee_env\n",
    "```\n",
    "\n",
    "\n",
    "You'll know your environment is activated successfully when `(gee_env)` appears before the prompt in your terminal window (as opposed to `(base)`, for example).\n",
    "\n",
    "- Install the Google Earth Engine API in your `gee_env`\n",
    "\n",
    "\n",
    "```{bash}\n",
    "#| eval: false\n",
    "conda install -c conda-forge earthengine-api\n",
    "```\n",
    "\n",
    "\n",
    "2. Sign up for a GEE Account\n",
    "\n",
    "GEE is currently free for educational use. Sign up for an account at https://signup.earthengine.google.com (you'll need this to authenticate in the next step).\n",
    "\n",
    "3. Set up GEE Authentication\n",
    "\n",
    "In order to begin using GEE, you'll need to connect your GEE envionment (`gee_env`) to the authentication credentials associated with your Google account. This will need to be done each time you connect to GEE, but should only be done once per session. \n",
    "\n",
    "- On the command line, type:\n",
    "\n",
    "\n",
    "```{bash}\n",
    "#| eval: false\n",
    "earthengine authenticate\n",
    "```\n",
    "\n",
    "\n",
    "This should launch a browser window where you can login with your Google account to the Google Earth Engine Authenticator. Following the prompts will generate a code, which you'll then need to copy and paste back onto the command line. This will be saved as an authentication token so you won't need to go through this process again until the next time you start a new session.\n",
    "\n",
    "4. Install necessary packages (if you don't already have them)\n",
    "\n",
    "\n",
    "```{bash}\n",
    "#| eval: false\n",
    "pip install ee # Earth Engine API package\n",
    "pip install geemap # package for interactive maping with GEE \n",
    "pip install pandas # contains useful tools for data manipulation (may not need this)\n",
    "pip install eemont # contains simplified GEE syntax\n",
    "```\n",
    "\n",
    "\n",
    "## Visualize global precipitation data using Google Earth Engine \n",
    "\n",
    "*Content for this section was adapted from Dr. Sam Stevenson's [Visualizing global precipitation using Google Earth Engine](https://github.com/samanthastevenson/EDS220_Fall2021/blob/main/Week1_ERA5Maps_GEE.ipynb) lesson, given in her [EDS 220 course](https://samanthastevenson.github.io/EDS220_site/) in Fall 2021.*\n",
    "\n",
    "1. Import necessary packages\n"
   ]
  },
  {
   "cell_type": "code",
   "execution_count": 1,
   "id": "b0746458",
   "metadata": {},
   "outputs": [],
   "source": [
    "#| eval: false\n",
    "import ee # MODULENOTFOUNDERROR\n",
    "import geemap\n",
    "import eemont\n",
    "import pandas as pd\n",
    "import numpy as np\n",
    "import seaborn as sns\n",
    "import matplotlib.pyplot as plt\n",
    "import plotly.express as px"
   ]
  },
  {
   "cell_type": "code",
   "execution_count": 2,
   "id": "531a83ca-e9ec-4ef3-9853-d3cb581f5ac5",
   "metadata": {},
   "outputs": [],
   "source": [
    "ee.Initialize()"
   ]
  },
  {
   "cell_type": "markdown",
   "id": "3f33408a",
   "metadata": {},
   "source": [
    "2. Create an interactive basemap\n",
    "\n",
    "The default basemap is (you guessed it) Google Maps. The following code displays an empty Google Map that you can manipulate just like you would in the typical Google Maps interface. Do this using the `Map` method from the `geemap` library. We'll also center the map at a specified latitude and longitude (here, 40N, 100E), set a zoom level, and save our map as an object called `myMap`.\n"
   ]
  },
  {
   "cell_type": "code",
   "execution_count": null,
   "id": "9f045bfc",
   "metadata": {},
   "outputs": [],
   "source": [
    "#| eval: false\n",
    "myMap = geemap.Map(center = [40, -100], zoom = 2)\n",
    "myMap"
   ]
  },
  {
   "cell_type": "markdown",
   "id": "03dada00",
   "metadata": {},
   "source": [
    "3. Load ERA5 Image Collections from GEE\n",
    "\n",
    "* NOTE: ADC has worked with these data -- took 3 weeks to download\n",
    "* EE colleciton is all you need to load and analyze imgage collection\n",
    "* precursor to Ingmar's stuff\n",
    "\n",
    "We'll be using the ERA5 daily aggregates reanalysis dataset, produced by the European Centre for Medium-Range Weather Forecasts (ECMWF), found [here](https://developers.google.com/earth-engine/datasets/catalog/ECMWF_ERA5_DAILY), which models atmospheric weather observations. We'll load the `total_precipitation` field (check out the dataset metadata on [here](https://developers.google.com/earth-engine/datasets/catalog/ECMWF_ERA5_DAILY#bands)).\n",
    "\n",
    "The `ImageCollection` method extracts a set of individual images that satisfies some criterion that you pass to GEE through the `ee` package. This is stored as an **ImageCollection** object which can be filtered and processed in various ways. We can pass the `ImageCollction` method agruments to tell GEE which data we want to retrieve. Below, we retrieve all daily ERA5 data (so we can see individual rain events).\n"
   ]
  },
  {
   "cell_type": "code",
   "execution_count": null,
   "id": "e9b55300",
   "metadata": {},
   "outputs": [],
   "source": [
    "#| eval: false\n",
    "weatherData = ee.ImageCollection('ECMWF/ERA5/DAILY')"
   ]
  },
  {
   "cell_type": "markdown",
   "id": "02142369",
   "metadata": {},
   "source": [
    "4. Select an image to plot\n",
    "\n",
    "To plot a map over our Google Maps basemap, we need an \"Image\" rather than an \"ImageCollection.\" ERA5 contains many different climate variables, so we need to pick what we'd like to plot. We'll use the `.select` method to choose the parameter(s) we're interested in from our `weatherData` object.\n"
   ]
  },
  {
   "cell_type": "code",
   "execution_count": null,
   "id": "6a77b673",
   "metadata": {},
   "outputs": [],
   "source": [
    "#| eval: false\n",
    "precip = weatherData.select(\"total_precipitation\")"
   ]
  },
  {
   "cell_type": "markdown",
   "id": "259b0af1",
   "metadata": {},
   "source": [
    "We can look at our `precip` object using the `print` method to see that it's still an \"ImageCollection\" which contains daily infomration from 1979 to 2020. \n"
   ]
  },
  {
   "cell_type": "code",
   "execution_count": null,
   "id": "1261618a",
   "metadata": {},
   "outputs": [],
   "source": [
    "#| eval: false\n",
    "print(precip)"
   ]
  },
  {
   "cell_type": "markdown",
   "id": "00dded1b",
   "metadata": {},
   "source": [
    "We want to filter it down to a single field for a time of interest -- let's say December 1-2, 2019. We apply the `.filter` method to our `precip` object and apply the `ee.Filter.date` method (from the `ee` package) to filter for data from our chosen date range. Always choose one more day! (Quirky GEE based behaviour!)\n",
    "We apply the `.first` method to choose the first (and only image).\n",
    "\n",
    "**deprecated**\n",
    "We also apply the `.mean` method, which takes whatever precedes it and calculates the average.\n"
   ]
  },
  {
   "cell_type": "code",
   "execution_count": null,
   "id": "761b00c6",
   "metadata": {},
   "outputs": [],
   "source": [
    "#| eval: false\n",
    "precip_filtered = precip.filter(ee.Filter.date('2019-12-01', '2019-12-02')).first()"
   ]
  },
  {
   "cell_type": "markdown",
   "id": "c52eb5ff",
   "metadata": {},
   "source": [
    "5. Add data to map\n",
    "\n",
    "We can fist use the `setCenter` method to tell the map where to center itself. It takes the longitude and latitude as the first two coordinates, followed by the zoom level.\n"
   ]
  },
  {
   "cell_type": "code",
   "execution_count": null,
   "id": "7a66fef5",
   "metadata": {},
   "outputs": [],
   "source": [
    "#| eval: false\n",
    "myMap.setCenter(-152.505706, 59.432367, 2) # Cook Inlet, Alaska (WE CAN CHANGE THIS LOCATION)"
   ]
  },
  {
   "cell_type": "markdown",
   "id": "72a41810",
   "metadata": {},
   "source": [
    "Next, set a color palette to use when plotting the data layer. The following is a palette specified for precipitation in the GEE description page for ERA5. GEE has lots of color tables like this that you can look up. \n"
   ]
  },
  {
   "cell_type": "code",
   "execution_count": null,
   "id": "b901dc90",
   "metadata": {},
   "outputs": [],
   "source": [
    "#| eval: false\n",
    "palette = ['#FFFFFF', '#00FFFF', '#0080FF', '#DA00FF', '#FFA400', '#FF0000']\n",
    "precip_viz_params = {\n",
    "    'min':0,\n",
    "    'max':0.1,\n",
    "    'palette': palette\n",
    "}"
   ]
  },
  {
   "cell_type": "markdown",
   "id": "07be2aea",
   "metadata": {},
   "source": [
    "Finally, plot our filtered data, `precip_filtered` on top of our basemap using the `.addLayer` method. We'll aslo pass it our visualization parameters (colors and ranges stored in `precip_palette`, the name of the data field `total precipitation`, and opacity so that we can see the basemap underneath)\n"
   ]
  },
  {
   "cell_type": "code",
   "execution_count": null,
   "id": "3bdc6803",
   "metadata": {},
   "outputs": [],
   "source": [
    "#| eval: false\n",
    "myMap.addLayer(precip_filtered, precip_viz_params, 'total precipitation 2019-12-01', opacity = 0.3)\n",
    "myMap"
   ]
  },
  {
   "cell_type": "markdown",
   "id": "e85be26e-5d97-4473-8969-19464a08c937",
   "metadata": {},
   "source": [
    "#### Annually aggregated data \n",
    "* calculate sum of precipitation\n",
    "* scale to mm"
   ]
  },
  {
   "cell_type": "code",
   "execution_count": null,
   "id": "062457c0-5c5c-4080-827f-7f789a231492",
   "metadata": {},
   "outputs": [],
   "source": [
    "precip_annual = precip.filter(ee.Filter.date('2019-01-01', '2020-01-01')).sum().multiply(1000)\n",
    "\n",
    "myMap.addLayer(precip_annual, dict(min=0, max=5000, palette=palette), 'Annual Precipitation')\n",
    "myMap"
   ]
  },
  {
   "cell_type": "markdown",
   "id": "88c4e6ee-2679-4fb8-be6d-9c225d40ed50",
   "metadata": {},
   "source": [
    "## INGMAR'S DEMONSTRATION HERE?(30-40 min)\n",
    "* optical remote sensing\n",
    "1. load and visualize image\n",
    "2. calculate and visualize indices\n",
    "3. Work with ImageCollections\n",
    "4. Extract time-series\n",
    "5. clustering / unsupervized classification"
   ]
  },
  {
   "cell_type": "markdown",
   "id": "74384911-f30d-4c0d-a931-370a16b48b9b",
   "metadata": {},
   "source": [
    "Here we want show show how to visualize and analyze fire dynamics in the Arctic"
   ]
  },
  {
   "cell_type": "markdown",
   "id": "354e7d54-dfda-4ae0-870c-9f42bf5981c2",
   "metadata": {},
   "source": [
    "### Loading and visualizing Data"
   ]
  },
  {
   "cell_type": "markdown",
   "id": "2111878b-6f11-4430-af8d-a4899492d4d8",
   "metadata": {},
   "source": [
    "#### Landscape changes in Arctic permafrost Regions\n",
    "* Slope Processes (thaw slumps, landslides)\n",
    "* Wildfires\n",
    "* Hydrological Changes\n",
    "* Coastal Dynamics"
   ]
  },
  {
   "cell_type": "markdown",
   "id": "3d12e100-4d85-4782-9d3b-22f90963e4a2",
   "metadata": {},
   "source": [
    "#### Area of Interest - Batagay"
   ]
  },
  {
   "cell_type": "markdown",
   "id": "4f3f7b1a-997a-4aef-abac-efd465cdda5e",
   "metadata": {},
   "source": [
    "<p float=\"left\">\n",
    "    <img src=\"https://www.science.org/do/10.1126/science.abe0581/full/main_batagai_1280p2.jpg\" style=\"width:400px;height:300px;\">\n",
    "    <img src=\"../images/MODIS_snapshot-2021-08-13T00_00_00Z.jpg\" style=\"width:400px;height:300px;\">\n",
    "</p>"
   ]
  },
  {
   "cell_type": "markdown",
   "id": "8aee64b3-3ab9-43e9-99d9-6dbebfae17b1",
   "metadata": {},
   "source": [
    "Source: https://www.science.org/do/10.1126/science.abe0581/full/main_batagai_1280p2.jpg\n",
    "\n",
    "Source: https://worldview.earthdata.nasa.gov/"
   ]
  },
  {
   "cell_type": "markdown",
   "id": "0e0232fa-0ac3-4f7b-ad88-8c37778154f2",
   "metadata": {},
   "source": [
    "#### Location : Batagay\n",
    "* define aoi\n",
    "* check out basemaps (e.g. OpenTopMap)"
   ]
  },
  {
   "cell_type": "code",
   "execution_count": 3,
   "id": "88b1f37f-3132-4b16-9f8c-36f685eb77b6",
   "metadata": {},
   "outputs": [],
   "source": [
    "# setup site and show in Map\n",
    "xy = [134.6, 67.66]\n",
    "poi = ee.Geometry.Point(xy) # Point\n",
    "bbox = ee.Geometry.BBox(134.45, 67.7, 134.8, 67.5970) # Polygon"
   ]
  },
  {
   "cell_type": "code",
   "execution_count": null,
   "id": "542d33c7-0729-42dc-af7c-43fb4021c222",
   "metadata": {},
   "outputs": [],
   "source": [
    "Map = geemap.Map()\n",
    "Map.addLayer(bbox, {}, 'AOI')\n",
    "Map.centerObject(poi, zoom=3)\n",
    "Map"
   ]
  },
  {
   "cell_type": "markdown",
   "id": "09d4c2e9-f16f-454c-bda2-2e944841d2fc",
   "metadata": {
    "tags": []
   },
   "source": [
    "#### Visualize Satellite Data\n",
    "**1. Image Visualizations**\n",
    "* RGB: Red - Green - Blue\n",
    "* Color-Infrared: Nir - Red - Green\n",
    "\n",
    "**2. Multispectral Indices**\n",
    "* NDVI: Normalized Difference Vegetation Index\n",
    "    * Good for vegetation\n",
    "* NBR: Normalized Burn Ratio\n",
    "    * Good for burned areas\n",
    "\n",
    "**3. Draw point and extract to EE Feature**"
   ]
  },
  {
   "cell_type": "markdown",
   "id": "333e5b17-a626-4bc9-a3c2-ef56c4f4e88c",
   "metadata": {},
   "source": [
    "Instantiate Map"
   ]
  },
  {
   "cell_type": "code",
   "execution_count": null,
   "id": "9bdaf6d5-8b87-45bf-9189-0225a855d2d8",
   "metadata": {},
   "outputs": [],
   "source": [
    "Map = geemap.Map()"
   ]
  },
  {
   "cell_type": "markdown",
   "id": "0d3f5c04-7960-45ae-aa04-ed6cb67797e8",
   "metadata": {},
   "source": [
    "Load Map"
   ]
  },
  {
   "cell_type": "code",
   "execution_count": null,
   "id": "7cd13648-3a5a-44d2-adff-e77c4bb2ac7e",
   "metadata": {
    "tags": []
   },
   "outputs": [],
   "source": [
    "# load image\n",
    "S2_Image = (ee.Image('COPERNICUS/S2_SR/20210805T030551_20210805T030545_T53WMR')\n",
    "            .scaleAndOffset()\n",
    "            .spectralIndices(['NDVI', 'NBR']) # Calculate multispectral indices\n",
    "           )\n",
    "# Show\n",
    "\n",
    "Map.addLayer(S2_Image, dict(min=0.0, max=0.1, gamma=1.5, bands=['B4', 'B3', 'B2']), 'RGB')\n",
    "Map.addLayer(S2_Image, dict(min=0.0, max=0.3, gamma=1.5, bands=['B8', 'B4', 'B3']), 'Color-Infrared', False)\n",
    "\n",
    "RdYlGn = ['#d7191c','#fdae61','#ffffbf','#a6d96a','#1a9641']\n",
    "Map.addLayer(S2_Image, dict(min=0.0, max=0.8, bands=['NDVI'], palette=RdYlGn), 'NDVI', False)\n",
    "Map.addLayer(S2_Image, dict(min=0.0, max=0.8, bands=['NBR'], palette=RdYlGn), 'NBR', False)\n",
    "\n",
    "Map.centerObject(S2_Image, zoom=8)"
   ]
  },
  {
   "cell_type": "code",
   "execution_count": null,
   "id": "b65d383b-ca6d-41f6-a2e8-ba746baf422b",
   "metadata": {},
   "outputs": [],
   "source": [
    "Map"
   ]
  },
  {
   "cell_type": "markdown",
   "id": "d6f2a22f-963b-4a50-a28c-663cbae4ba96",
   "metadata": {},
   "source": [
    "#### Select Point in Map above and pull location as ee.Feature"
   ]
  },
  {
   "cell_type": "code",
   "execution_count": null,
   "id": "0e42ca1c-7d77-4468-bb9e-e7fa1fd1b7ee",
   "metadata": {},
   "outputs": [],
   "source": [
    "point_fire = Map.draw_last_feature"
   ]
  },
  {
   "cell_type": "markdown",
   "id": "c7f8275d-23f2-4391-ac1a-e20ce7756503",
   "metadata": {},
   "source": [
    "backup option"
   ]
  },
  {
   "cell_type": "code",
   "execution_count": null,
   "id": "8e0ab639-a9e6-4d65-828a-2057afe4a57e",
   "metadata": {},
   "outputs": [],
   "source": [
    "#point_fire = ee.Geometry.Point([134.6339, 68.0397])"
   ]
  },
  {
   "cell_type": "markdown",
   "id": "25f519ad-99dc-4dd6-afb3-79fbb5126695",
   "metadata": {},
   "source": [
    "#### Load more than image + analyze them\n",
    "* you can do the same analysis with a ImageCollections (stacks of images of the same type)\n",
    "* Load full S2 series\n",
    "* filter\n",
    "    * Location\n",
    "    * Metadata - e.g. cloud cover\n",
    "    * Dates \n",
    "        * Start + End\n",
    "        * Specific months: June-September"
   ]
  },
  {
   "cell_type": "code",
   "execution_count": null,
   "id": "eafc72cc-e298-4c17-9481-e34ae058e18e",
   "metadata": {
    "tags": []
   },
   "outputs": [],
   "source": [
    "# Image Collection\n",
    "ds = 'COPERNICUS/S2_SR'\n",
    "\n",
    "S2 = (ee.ImageCollection(ds)\n",
    "      ### Filters ###\n",
    "      .filterBounds(poi) # only images, which intersect our point/region\n",
    "      .filter(ee.Filter.calendarRange(6,9,'month')) # only June through September, Summer only\n",
    "      .filter(ee.Filter.lt('CLOUDY_PIXEL_PERCENTAGE', 10)) # only images with less that 10 % clouds\n",
    "      #.filterDate('2022-07-01','2022-12-31')\n",
    "      ### PreProcessing ###\n",
    "      .scaleAndOffset()\n",
    "      .spectralIndices(['NDVI', 'NBR'])\n",
    "      .maskClouds()\n",
    "      .sort('CLOUDY_PIXEL_PERCENTAGE')\n",
    "     )#.first()\n",
    "# calculate indices (e.g. NDVI, NBR)\n",
    "print(f'Number of images {S2.size().getInfo()}') # Print number of images"
   ]
  },
  {
   "cell_type": "markdown",
   "id": "63ce2985-9c13-4008-8f45-090ac1c8b160",
   "metadata": {},
   "source": [
    "### Make time-series \n",
    "Example from https://eemont.readthedocs.io/en/0.2.0/guide/timeSeries.html"
   ]
  },
  {
   "cell_type": "markdown",
   "id": "2862fb92-0756-420e-b3a5-27b9b93bd0a0",
   "metadata": {},
   "source": [
    "Plot values"
   ]
  },
  {
   "cell_type": "markdown",
   "id": "4e5e9cde-f6ed-497e-b023-bc23f5ad09f5",
   "metadata": {
    "tags": []
   },
   "source": [
    "### Now let's try a longer time-series\n",
    "* S2_SR only has 4 years\n",
    "* e.g. Landsat / MODIS"
   ]
  },
  {
   "cell_type": "code",
   "execution_count": 4,
   "id": "ffe802b9-2104-410e-b7d1-600d62dc122f",
   "metadata": {},
   "outputs": [],
   "source": [
    "def load_and_prepare_Landsat(collection_name):\n",
    "    collection = (ee.ImageCollection(collection_name)\n",
    "      ### Filters ###\n",
    "      .filterBounds(bbox) # only images, which intersect our point/region\n",
    "      .filter(ee.Filter.calendarRange(7,8,'month')) # only June through September, Summer only\n",
    "      .filter(ee.Filter.lt('CLOUD_COVER_LAND', 10)) # only images with less that 10 % clouds\n",
    "      #.filterDate('2022-07-01','2022-12-31')\n",
    "      ### PreProcessing ###\n",
    "      .scaleAndOffset()\n",
    "      .spectralIndices(['NDVI', 'NBR'])\n",
    "      .maskClouds()\n",
    "     )\n",
    "    return collection"
   ]
  },
  {
   "cell_type": "code",
   "execution_count": 5,
   "id": "89e63e14-9e43-4166-86b1-e13d5c2692d4",
   "metadata": {},
   "outputs": [],
   "source": [
    "L9 = load_and_prepare_Landsat(\"LANDSAT/LC09/C02/T1_L2\")\n",
    "L8 = load_and_prepare_Landsat(\"LANDSAT/LC08/C02/T1_L2\")\n",
    "L7 = load_and_prepare_Landsat(\"LANDSAT/LE07/C02/T1_L2\")\n",
    "L5 = load_and_prepare_Landsat(\"LANDSAT/LT05/C02/T1_L2\")\n",
    "LS = L9.merge(L8).merge(L7).merge(L5)"
   ]
  },
  {
   "cell_type": "code",
   "execution_count": 6,
   "id": "8cbfa656-5b99-4ab2-8a78-9b4ee856d1d7",
   "metadata": {},
   "outputs": [
    {
     "ename": "NameError",
     "evalue": "name 'point_fire' is not defined",
     "output_type": "error",
     "traceback": [
      "\u001b[1;31m---------------------------------------------------------------------------\u001b[0m",
      "\u001b[1;31mNameError\u001b[0m                                 Traceback (most recent call last)",
      "Cell \u001b[1;32mIn [6], line 2\u001b[0m\n\u001b[0;32m      1\u001b[0m ts \u001b[38;5;241m=\u001b[39m LS\u001b[38;5;241m.\u001b[39mgetTimeSeriesByRegion(reducer \u001b[38;5;241m=\u001b[39m ee\u001b[38;5;241m.\u001b[39mReducer\u001b[38;5;241m.\u001b[39mmean(),\n\u001b[1;32m----> 2\u001b[0m                               geometry \u001b[38;5;241m=\u001b[39m \u001b[43mpoint_fire\u001b[49m,\n\u001b[0;32m      3\u001b[0m                               bands \u001b[38;5;241m=\u001b[39m [\u001b[38;5;124m'\u001b[39m\u001b[38;5;124mNBR\u001b[39m\u001b[38;5;124m'\u001b[39m,\u001b[38;5;124m'\u001b[39m\u001b[38;5;124mNDVI\u001b[39m\u001b[38;5;124m'\u001b[39m],\n\u001b[0;32m      4\u001b[0m                               scale \u001b[38;5;241m=\u001b[39m \u001b[38;5;241m10\u001b[39m)\n",
      "\u001b[1;31mNameError\u001b[0m: name 'point_fire' is not defined"
     ]
    }
   ],
   "source": [
    "ts = LS.getTimeSeriesByRegion(reducer = ee.Reducer.mean(),\n",
    "                              geometry = point_fire,\n",
    "                              bands = ['NBR','NDVI'],\n",
    "                              scale = 10)"
   ]
  },
  {
   "cell_type": "code",
   "execution_count": null,
   "id": "451de542-cfa3-4b23-a39f-f4f7fad5f34c",
   "metadata": {},
   "outputs": [],
   "source": [
    "tsPandas = geemap.ee_to_pandas(ts)"
   ]
  },
  {
   "cell_type": "code",
   "execution_count": null,
   "id": "6842bedc-db4d-48a4-8362-6322c635ecc1",
   "metadata": {},
   "outputs": [],
   "source": [
    "tsPandas"
   ]
  },
  {
   "cell_type": "markdown",
   "id": "d644e527-685e-4aad-8046-9cb17ba42aad",
   "metadata": {},
   "source": [
    "#### Some more cleaning necessary "
   ]
  },
  {
   "cell_type": "code",
   "execution_count": null,
   "id": "e002b42d-2f13-4a5d-87c4-5046fcdc64f3",
   "metadata": {},
   "outputs": [],
   "source": [
    "tsPandas[tsPandas == -9999] = np.nan\n",
    "tsPandas['date'] = pd.to_datetime(tsPandas['date'],infer_datetime_format = True)\n",
    "\n",
    "tsPandas = tsPandas.sort_values(by='date').dropna(axis=0).reset_index()"
   ]
  },
  {
   "cell_type": "code",
   "execution_count": null,
   "id": "53849433-3c93-4acf-b61a-a7854220ea02",
   "metadata": {},
   "outputs": [],
   "source": [
    "tsPandas"
   ]
  },
  {
   "cell_type": "markdown",
   "id": "3bfef2b4-b524-4aae-b47c-8ac2264c7561",
   "metadata": {},
   "source": [
    "### Visualize output \n",
    "* example with Plotly\n",
    "   * or use package/library of your choice: matplotlib, seaborn, ..."
   ]
  },
  {
   "cell_type": "code",
   "execution_count": null,
   "id": "0e67a164-7f0c-4d3b-a7fe-1dba196bf103",
   "metadata": {},
   "outputs": [],
   "source": [
    "px.scatter(tsPandas, x='date', y=['NDVI', 'NBR'])"
   ]
  },
  {
   "cell_type": "code",
   "execution_count": null,
   "id": "9db1e293-a553-4419-b293-c2e9d257a4f5",
   "metadata": {},
   "outputs": [],
   "source": [
    "px.line(tsPandas, x='date', y=['NDVI', 'NBR'])"
   ]
  },
  {
   "cell_type": "markdown",
   "id": "bdec9824-b845-45ce-ae9d-2b305a7efb47",
   "metadata": {},
   "source": [
    "### annual composite "
   ]
  },
  {
   "cell_type": "code",
   "execution_count": null,
   "id": "a71596bd-111e-4108-b324-1e001bd3c981",
   "metadata": {},
   "outputs": [],
   "source": [
    "LS_2020 = LS.filterDate('2020-01-01', '2020-12-31')\n",
    "LS_2019 = LS.filterDate('2019-01-01', '2019-12-31')"
   ]
  },
  {
   "cell_type": "code",
   "execution_count": null,
   "id": "6dfe4743-0bbf-4da4-98f4-2827dc470fc0",
   "metadata": {},
   "outputs": [],
   "source": [
    "LS_2020_reduced = LS_2020.reduce(ee.Reducer.median())\n",
    "LS_2019_reduced = LS_2019.reduce(ee.Reducer.median())"
   ]
  },
  {
   "cell_type": "code",
   "execution_count": null,
   "id": "5b69c7f7-49d4-4394-9268-43bc3ffc7b0e",
   "metadata": {},
   "outputs": [],
   "source": [
    "Map = geemap.Map()\n",
    "Map.addLayer(LS_2020_reduced,dict(min=-1, max=1, bands=['NDVI_median']), 'Median NDVI 2020')\n",
    "Map.addLayer(LS_2019_reduced,dict(min=-1, max=1, bands=['NDVI_median']), 'Median NDVI 2019')\n",
    "#Map.centerObject(LS_2020_reduced, 9)\n",
    "Map"
   ]
  },
  {
   "cell_type": "markdown",
   "id": "621df30f-6388-4dd7-9c0a-f6302361d4d2",
   "metadata": {},
   "source": [
    "### Calculate Trend "
   ]
  },
  {
   "cell_type": "code",
   "execution_count": 7,
   "id": "14949ae6-efda-4587-97b0-6c9966d79b0b",
   "metadata": {},
   "outputs": [],
   "source": [
    "def make_dateband(image):\n",
    "  factor = ee.Number(864000000000) # seconds to years\n",
    "  time = ee.Number(image.get(\"system:time_start\"))\n",
    "  time2 = time.toDouble().divide(factor)\n",
    "  date_image = ee.Image.constant(time2).toFloat().select([0], ['Date'])\n",
    "  #TODO: rename to 'Date'\n",
    "  return image.addBands(date_image)"
   ]
  },
  {
   "cell_type": "code",
   "execution_count": 8,
   "id": "2fc88e0c-e76d-4183-8498-39f4be30527c",
   "metadata": {},
   "outputs": [],
   "source": [
    "LS = LS.map(make_dateband)"
   ]
  },
  {
   "cell_type": "code",
   "execution_count": 9,
   "id": "342c23b0-029f-464e-8421-d1095631c34a",
   "metadata": {},
   "outputs": [],
   "source": [
    "index = 'NDVI'\n",
    "trend_image = ee.Image()\n",
    "trend = ee.ImageCollection(LS.select(['Date', index])).reduce(ee.Reducer.linearFit().unweighted())\n",
    "trend_image = trend_image.addBands(trend)"
   ]
  },
  {
   "cell_type": "code",
   "execution_count": 10,
   "id": "ff7568b3-b509-4097-981f-76caa68bc475",
   "metadata": {},
   "outputs": [],
   "source": [
    "palette = geemap.get_palette_colors(cmap_name='RdYlGn')"
   ]
  },
  {
   "cell_type": "code",
   "execution_count": 13,
   "id": "56e935b9-7be4-4fb0-a60c-d38bee13f79a",
   "metadata": {},
   "outputs": [
    {
     "data": {
      "application/vnd.jupyter.widget-view+json": {
       "model_id": "b9329460c3a14eadb0796ac8c4b1727f",
       "version_major": 2,
       "version_minor": 0
      },
      "text/plain": [
       "Map(center=[20, 0], controls=(WidgetControl(options=['position', 'transparent_bg'], widget=HBox(children=(Togg…"
      ]
     },
     "execution_count": 13,
     "metadata": {},
     "output_type": "execute_result"
    }
   ],
   "source": [
    "Map = geemap.Map()\n",
    "Map.addLayer(trend_image.clip(bbox), dict(min=-0.2, max=0.2, palette=palette, bands=['scale']))\n",
    "#Map.centerObject(trend_image, 8)\n",
    "Map"
   ]
  },
  {
   "cell_type": "markdown",
   "id": "83b3090f-ddfd-4ed7-b954-8d38f46d1a9a",
   "metadata": {},
   "source": [
    "Add some nice temporal data\n",
    "Tasseled Cap Trends: 2001-2020"
   ]
  },
  {
   "cell_type": "code",
   "execution_count": 15,
   "id": "4fd564a9-cf24-49c8-bee6-04552c483854",
   "metadata": {},
   "outputs": [],
   "source": [
    "TCVIS = ee.ImageCollection('users/ingmarnitze/TCTrend_SR_2001-2020_TCVIS')\n",
    "Map.addLayer(TCVIS, {}, 'TCVIS')"
   ]
  },
  {
   "cell_type": "markdown",
   "id": "28ba61e6-1f8e-4150-b8a0-de5f506527dd",
   "metadata": {},
   "source": [
    "### Clustering \n",
    "* Group individual image into several \"similar\" objects\n",
    "* taken from: https://geemap.org/notebooks/31_unsupervised_classification/#make-training-dataset"
   ]
  },
  {
   "cell_type": "code",
   "execution_count": null,
   "id": "86c77d76-e23a-43a3-87ef-457f5a202c9e",
   "metadata": {},
   "outputs": [],
   "source": [
    "image = S2_Image"
   ]
  },
  {
   "cell_type": "code",
   "execution_count": null,
   "id": "7aca1d74-255e-459e-ae86-001701762e65",
   "metadata": {},
   "outputs": [],
   "source": [
    "# Make the training dataset.\n",
    "training = image.sample(\n",
    "    **{\n",
    "        #     'region': region,\n",
    "        'scale': 10,\n",
    "        'numPixels': 5000,\n",
    "        'seed': 0,\n",
    "        'geometries': True,  # Set this to False to ignore geometries\n",
    "    }\n",
    ")"
   ]
  },
  {
   "cell_type": "code",
   "execution_count": null,
   "id": "011649fd-506c-40ef-b9cc-4696d2c32b28",
   "metadata": {},
   "outputs": [],
   "source": [
    "# Instantiate the clusterer and train it.\n",
    "n_clusters = 5\n",
    "clusterer = ee.Clusterer.wekaKMeans(n_clusters).train(training)"
   ]
  },
  {
   "cell_type": "code",
   "execution_count": null,
   "id": "a018a5ac-cf7c-494e-9650-a03ea65abd85",
   "metadata": {},
   "outputs": [],
   "source": [
    "# Cluster the input using the trained clusterer.\n",
    "result = image.cluster(clusterer)\n",
    "\n",
    "# # Display the clusters with random colors.\n",
    "Map.addLayer(result.randomVisualizer(), {}, 'clusters')\n"
   ]
  },
  {
   "cell_type": "code",
   "execution_count": null,
   "id": "215545b0-02b8-40b1-bb0e-0a293203ca00",
   "metadata": {},
   "outputs": [],
   "source": [
    "legend_keys = ['One', 'Two', 'Three', 'Four', 'ect']\n",
    "legend_colors = ['#8DD3C7', '#FFFFB3', '#BEBADA', '#FB8072', '#80B1D3']\n",
    "\n",
    "# Reclassify the map\n",
    "result = result.remap([0, 1, 2, 3, 4], [1, 2, 3, 4, 5])\n",
    "\n",
    "Map.addLayer(\n",
    "    result, {'min': 1, 'max': 5, 'palette': legend_colors}, 'Labelled clusters'\n",
    ")\n",
    "Map.add_legend(\n",
    "    legend_keys=legend_keys, legend_colors=legend_colors, position='bottomright'\n",
    ")"
   ]
  },
  {
   "cell_type": "code",
   "execution_count": null,
   "id": "b728b4d6-265b-4ea4-8188-01310f61365a",
   "metadata": {},
   "outputs": [],
   "source": [
    "Map"
   ]
  },
  {
   "cell_type": "markdown",
   "id": "ad25cbae",
   "metadata": {
    "tags": []
   },
   "source": [
    "## Conclusion/Summary \n",
    "\n",
    "* lessons learned\n",
    "* utilities\n",
    "* etc."
   ]
  },
  {
   "cell_type": "code",
   "execution_count": null,
   "id": "ce38352d-d1bd-49eb-8c81-39822a14b1ae",
   "metadata": {},
   "outputs": [],
   "source": []
  },
  {
   "cell_type": "markdown",
   "id": "2b7099bd-7b91-482b-9eb9-43978d435ae4",
   "metadata": {},
   "source": [
    "## Other Resources\n",
    "\n",
    "### Datasets\n",
    "- [GEE Code Editor](https://code.earthengine.google.com/) is a web-based IDE for using GEE (JavaScript)\n",
    "- [GEE Datasets](https://developers.google.com/earth-engine/datasets) is the main resource for \"official\" GEE Datasets\n",
    "- [GEE Community Datasets](https://samapriya.github.io/awesome-gee-community-datasets/) is the main resource for \"community\" GEE Datasets"
   ]
  },
  {
   "cell_type": "markdown",
   "id": "f8c16643-c7b6-4a69-8bc8-350dc74a6d1e",
   "metadata": {},
   "source": [
    "### Tutorials"
   ]
  },
  {
   "cell_type": "markdown",
   "id": "4c267cee-a2fa-4438-abaf-905aa810cbc1",
   "metadata": {},
   "source": [
    "* **Qiusheng Wu's Youtube Channel !!!** https://www.youtube.com/c/Qiushengwu\n",
    "\n",
    "* **Documentation and Tutorials** https://geemap.org/\n",
    "\n",
    "* **EEmont** Documentation: https://eemont.readthedocs.io/en/latest/"
   ]
  },
  {
   "cell_type": "markdown",
   "id": "75a6be3a-5b49-4a79-a3f9-58ea7a14ad96",
   "metadata": {},
   "source": [
    "### Stackexchange\n",
    "* https://gis.stackexchange.com/questions/tagged/google-earth-engine GEE Stackexchange"
   ]
  },
  {
   "cell_type": "code",
   "execution_count": null,
   "id": "8dd3e02b-7ecb-4ca3-8ef0-06e8daad1c1d",
   "metadata": {},
   "outputs": [],
   "source": []
  }
 ],
 "metadata": {
  "kernelspec": {
   "display_name": "Python 3 (ipykernel)",
   "language": "python",
   "name": "python3"
  },
  "language_info": {
   "codemirror_mode": {
    "name": "ipython",
    "version": 3
   },
   "file_extension": ".py",
   "mimetype": "text/x-python",
   "name": "python",
   "nbconvert_exporter": "python",
   "pygments_lexer": "ipython3",
   "version": "3.8.13"
  }
 },
 "nbformat": 4,
 "nbformat_minor": 5
}
